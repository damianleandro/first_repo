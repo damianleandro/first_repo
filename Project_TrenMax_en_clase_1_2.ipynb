{
  "nbformat": 4,
  "nbformat_minor": 0,
  "metadata": {
    "language_info": {
      "codemirror_mode": {
        "name": "ipython",
        "version": 3
      },
      "file_extension": ".py",
      "mimetype": "text/x-python",
      "name": "python",
      "nbconvert_exporter": "python",
      "pygments_lexer": "ipython3",
      "version": "3.8.5-final"
    },
    "orig_nbformat": 2,
    "kernelspec": {
      "name": "python3",
      "display_name": "Python 3.8.5 64-bit ('base': conda)",
      "metadata": {
        "interpreter": {
          "hash": "15ad3da4b4c61c3c846aae53763500b4377007d3fd583d900e0660560d786cf6"
        }
      }
    },
    "colab": {
      "provenance": [],
      "collapsed_sections": [],
      "include_colab_link": true
    }
  },
  "cells": [
    {
      "cell_type": "markdown",
      "metadata": {
        "id": "view-in-github",
        "colab_type": "text"
      },
      "source": [
        "<a href=\"https://colab.research.google.com/github/damianleandro/first_repo/blob/master/Project_TrenMax_en_clase_1_2.ipynb\" target=\"_parent\"><img src=\"https://colab.research.google.com/assets/colab-badge.svg\" alt=\"Open In Colab\"/></a>"
      ]
    },
    {
      "cell_type": "markdown",
      "metadata": {
        "id": "WnYTJkZfndyq"
      },
      "source": [
        "## MASTER DATA SCIENCE: NUCLIO\n",
        "## PROFESOR: JOSEPH GALLART\n",
        "## PROJECT TRENMAX 1/2"
      ]
    },
    {
      "cell_type": "code",
      "metadata": {
        "id": "eepPduAVp-fA"
      },
      "source": [
        "from google.colab import drive\n",
        "drive.mount('/content/drive')"
      ],
      "execution_count": null,
      "outputs": []
    },
    {
      "cell_type": "code",
      "metadata": {
        "id": "1iUgwBhFndyv"
      },
      "source": [
        "#importamos librería\n",
        "import pandas as pd \n",
        "import numpy as np\n",
        "import matplotlib.pyplot as plt\n",
        "import seaborn as sns\n",
        "\n",
        "from sklearn.preprocessing import LabelEncoder,MinMaxScaler\n",
        "\n",
        "import folium\n",
        "import plotly.express as px"
      ],
      "execution_count": null,
      "outputs": []
    },
    {
      "cell_type": "code",
      "metadata": {
        "id": "qQDwg2ZOndy0"
      },
      "source": [
        "#LEEMOS EL FICHERO DE RENFE \n",
        "df_renfe = pd.read_csv(\"/content/drive/MyDrive/(0000) - Data science/Procesamiento de datos /Clases/Project TrenMax/dataset/renfe.csv\", sep=\";\")"
      ],
      "execution_count": null,
      "outputs": []
    },
    {
      "cell_type": "code",
      "source": [
        "df_renfe.head() #Fecha de consulta = Cuando se hizo el webscraping"
      ],
      "metadata": {
        "id": "IpYxNAv5rpWo"
      },
      "execution_count": null,
      "outputs": []
    },
    {
      "cell_type": "code",
      "source": [
        "df_renfe.info()"
      ],
      "metadata": {
        "id": "KglrDLRpkqGA"
      },
      "execution_count": null,
      "outputs": []
    },
    {
      "cell_type": "code",
      "metadata": {
        "id": "XybcKFzlndy0"
      },
      "source": [
        "#PREGUNTA 1"
      ],
      "execution_count": null,
      "outputs": []
    },
    {
      "cell_type": "code",
      "metadata": {
        "id": "puy0XDZCndy1"
      },
      "source": [
        "df_renfe.isnull().sum()"
      ],
      "execution_count": null,
      "outputs": []
    },
    {
      "cell_type": "code",
      "metadata": {
        "id": "DuoZsHqKndy1"
      },
      "source": [
        "#PREGUNTA 2"
      ],
      "execution_count": null,
      "outputs": []
    },
    {
      "cell_type": "code",
      "metadata": {
        "id": "2wzpRzTxndy2"
      },
      "source": [
        "df_renfe.info()"
      ],
      "execution_count": null,
      "outputs": []
    },
    {
      "cell_type": "code",
      "source": [
        "df_renfe[\"FECHA_CONSULTA\"]=df_renfe[\"FECHA_CONSULTA\"].apply(pd.to_datetime)"
      ],
      "metadata": {
        "id": "-qfWJ1UaoUy5"
      },
      "execution_count": null,
      "outputs": []
    },
    {
      "cell_type": "code",
      "source": [
        "df_renfe[\"FECHA_INICIO\"]=df_renfe[\"FECHA_INICIO\"].apply(pd.to_datetime)"
      ],
      "metadata": {
        "id": "yZKLWRxFpAzJ"
      },
      "execution_count": null,
      "outputs": []
    },
    {
      "cell_type": "code",
      "source": [
        "df_renfe[\"FECHA_FIN\"]=df_renfe[\"FECHA_FIN\"].apply(pd.to_datetime)"
      ],
      "metadata": {
        "id": "2-JqB_jWpDW-"
      },
      "execution_count": null,
      "outputs": []
    },
    {
      "cell_type": "code",
      "source": [
        "len(df_renfe[df_renfe.duplicated()])"
      ],
      "metadata": {
        "id": "syD-K7HMpLMP"
      },
      "execution_count": null,
      "outputs": []
    },
    {
      "cell_type": "code",
      "source": [
        "#PREGUNTA 3"
      ],
      "metadata": {
        "id": "iqDjcJ3PsJh2"
      },
      "execution_count": null,
      "outputs": []
    },
    {
      "cell_type": "code",
      "source": [
        "df_renfe2 = df_renfe.copy()"
      ],
      "metadata": {
        "id": "Nz1UcurOqtTe"
      },
      "execution_count": null,
      "outputs": []
    },
    {
      "cell_type": "code",
      "source": [
        "df_renfe2.drop_duplicates(inplace=True)"
      ],
      "metadata": {
        "id": "Omf1i36-qCcN"
      },
      "execution_count": null,
      "outputs": []
    },
    {
      "cell_type": "code",
      "source": [
        "len(df_renfe2[df_renfe2.duplicated()])"
      ],
      "metadata": {
        "id": "_Qo3rcXKrHya"
      },
      "execution_count": null,
      "outputs": []
    },
    {
      "cell_type": "code",
      "source": [
        "#PREGUNTA 4"
      ],
      "metadata": {
        "id": "ogfc6X1pkIBV"
      },
      "execution_count": null,
      "outputs": []
    },
    {
      "cell_type": "code",
      "source": [
        "Tiempo_Viaje = df_renfe2[\"FECHA_FIN\"] - df_renfe2[\"FECHA_INICIO\"] "
      ],
      "metadata": {
        "id": "Wl8z1RR-kH0K"
      },
      "execution_count": null,
      "outputs": []
    },
    {
      "cell_type": "code",
      "source": [
        "Tiempo_Viaje_Min = Tiempo_Viaje / np.timedelta64(1,'m')"
      ],
      "metadata": {
        "id": "Whc_9DgAsvQ9"
      },
      "execution_count": null,
      "outputs": []
    },
    {
      "cell_type": "code",
      "source": [
        "Tiempo_Viaje_Min"
      ],
      "metadata": {
        "id": "JzLIkPTqtZKw"
      },
      "execution_count": null,
      "outputs": []
    },
    {
      "cell_type": "code",
      "source": [
        "df_renfe2[\"Tiempo_Viaje_Min\"] = Tiempo_Viaje_Min"
      ],
      "metadata": {
        "id": "RWr9L9CoucH_"
      },
      "execution_count": null,
      "outputs": []
    },
    {
      "cell_type": "code",
      "source": [
        "Dif_Ini_Bus = df_renfe2[\"FECHA_INICIO\"] - df_renfe2[\"FECHA_CONSULTA\"]"
      ],
      "metadata": {
        "id": "N8LDbKsOukFj"
      },
      "execution_count": null,
      "outputs": []
    },
    {
      "cell_type": "code",
      "source": [
        "Dif_Ini_Bus"
      ],
      "metadata": {
        "id": "0PFxvITBvaOd"
      },
      "execution_count": null,
      "outputs": []
    },
    {
      "cell_type": "code",
      "source": [
        "del(df_renfe2[\"Date\"])"
      ],
      "metadata": {
        "id": "ZH1TkqYKwzzq"
      },
      "execution_count": null,
      "outputs": []
    },
    {
      "cell_type": "code",
      "source": [
        "df_renfe2.info()"
      ],
      "metadata": {
        "id": "ie69n2fHw52K"
      },
      "execution_count": null,
      "outputs": []
    },
    {
      "cell_type": "code",
      "source": [
        "#PREGUNTA 5"
      ],
      "metadata": {
        "id": "6M7vRI_9kHoI"
      },
      "execution_count": null,
      "outputs": []
    },
    {
      "cell_type": "code",
      "source": [
        "for col in ['FECHA_CONSULTA', 'FECHA_INICIO', 'FECHA_FIN']:\n",
        "  df_renfe2[col + '_HORA'] = df_renfe2[col].dt.hour\n",
        "  df_renfe2[col + '_NOMBREDIA'] = df_renfe2[col].dt.day_name()\n",
        "    ##O .dt.weekday_name\n",
        "  df_renfe2[col + '_DIA'] = df_renfe2[col].dt.day\n",
        "  df_renfe2[col + '_MES'] = df_renfe2[col].dt.month\n",
        "    \n",
        "  del df_renfe2[col]\n",
        "\n",
        "df_renfe2.head()"
      ],
      "metadata": {
        "id": "YOsJXQjCkHUB"
      },
      "execution_count": null,
      "outputs": []
    },
    {
      "cell_type": "code",
      "metadata": {
        "id": "pnbQfMXNndy2"
      },
      "source": [
        "#PREGUNTA 6"
      ],
      "execution_count": null,
      "outputs": []
    },
    {
      "cell_type": "code",
      "source": [
        "nulos = df_renfe2[\"PRECIO\"].isnull().sum()"
      ],
      "metadata": {
        "id": "ardexETDzian"
      },
      "execution_count": null,
      "outputs": []
    },
    {
      "cell_type": "code",
      "metadata": {
        "id": "WeLxjP0Ondy3"
      },
      "source": [
        "porcen = nulos / len(df_renfe2)"
      ],
      "execution_count": null,
      "outputs": []
    },
    {
      "cell_type": "code",
      "source": [
        "porcen*100"
      ],
      "metadata": {
        "id": "GppTMGKO1f3g"
      },
      "execution_count": null,
      "outputs": []
    },
    {
      "cell_type": "code",
      "metadata": {
        "id": "I0dMoZH9uY90"
      },
      "source": [
        "#PREGUNTA 7"
      ],
      "execution_count": null,
      "outputs": []
    },
    {
      "cell_type": "code",
      "metadata": {
        "id": "ZtFggwlZndy3"
      },
      "source": [
        "df_renfe2.isnull().sum()"
      ],
      "execution_count": null,
      "outputs": []
    },
    {
      "cell_type": "code",
      "source": [
        "corr = df_renfe2.corr()"
      ],
      "metadata": {
        "id": "qNP2-t_O2Dy4"
      },
      "execution_count": null,
      "outputs": []
    },
    {
      "cell_type": "code",
      "source": [
        "df_renfe2.groupby(df_renfe2[\"TIPO_TARIFA\"]).sum()"
      ],
      "metadata": {
        "id": "Nt6vAjo32d7s"
      },
      "execution_count": null,
      "outputs": []
    },
    {
      "cell_type": "code",
      "source": [
        "df_renfe3 = df_renfe2.copy()"
      ],
      "metadata": {
        "id": "IZd4T_9W3iLH"
      },
      "execution_count": null,
      "outputs": []
    },
    {
      "cell_type": "code",
      "source": [
        "df_renfe3[\"TIPO_TARIFA\"].fillna(\"Sin tarifa\", inplace=True)"
      ],
      "metadata": {
        "id": "mdU7Ho-73nVk"
      },
      "execution_count": null,
      "outputs": []
    },
    {
      "cell_type": "code",
      "source": [
        "df_renfe3[\"CLASE\"].fillna(\"Sin tarifa\", inplace=True) #Cometí el error de poner mal el reemplazo porque era \"Sin clase\""
      ],
      "metadata": {
        "id": "Nflvwvoe32vm"
      },
      "execution_count": null,
      "outputs": []
    },
    {
      "cell_type": "code",
      "source": [
        "df_renfe3_null = df_renfe3[df_renfe3[\"PRECIO\"].isnull()]"
      ],
      "metadata": {
        "id": "xKENj4XY362y"
      },
      "execution_count": null,
      "outputs": []
    },
    {
      "cell_type": "code",
      "source": [
        "df_renfe3_null"
      ],
      "metadata": {
        "id": "ZAXnzaNv71qC"
      },
      "execution_count": null,
      "outputs": []
    },
    {
      "cell_type": "code",
      "source": [
        "df_renfe3.dropna(inplace=True)"
      ],
      "metadata": {
        "id": "-FoAvtRu8Dt0"
      },
      "execution_count": null,
      "outputs": []
    },
    {
      "cell_type": "code",
      "source": [
        "df_renfe3.reset_index()"
      ],
      "metadata": {
        "id": "d1HL89yD8e78"
      },
      "execution_count": null,
      "outputs": []
    },
    {
      "cell_type": "code",
      "source": [
        "df_renfe3.reset_index(drop=True, inplace=True)"
      ],
      "metadata": {
        "id": "_csa9oKj9WeK"
      },
      "execution_count": null,
      "outputs": []
    },
    {
      "cell_type": "code",
      "source": [
        "df_renfe3[\"PRECIO\"].mean()"
      ],
      "metadata": {
        "id": "wnnf7sG77AIS"
      },
      "execution_count": null,
      "outputs": []
    },
    {
      "cell_type": "code",
      "source": [
        "df_renfe3.info()"
      ],
      "metadata": {
        "id": "qAxjkmQg5kYh"
      },
      "execution_count": null,
      "outputs": []
    },
    {
      "cell_type": "code",
      "source": [
        "#PREGUNTA 8"
      ],
      "metadata": {
        "id": "PEWSK1_SoG0D"
      },
      "execution_count": null,
      "outputs": []
    },
    {
      "cell_type": "code",
      "source": [
        "def obtener_lista_variables(dataset):\n",
        "  lista_numericas=[]\n",
        "  lista_boolean=[]\n",
        "  lista_categoricas=[]\n",
        "  return lista_numericas, lista_boolean, lista_categoricas "
      ],
      "metadata": {
        "id": "g7n6wH4h_N-6"
      },
      "execution_count": null,
      "outputs": []
    },
    {
      "cell_type": "code",
      "metadata": {
        "id": "IjS2PXVindy4"
      },
      "source": [
        "def obtener_lista_variables(dataset):\n",
        "  lista_numericas=[]\n",
        "  lista_boolean=[]\n",
        "  lista_categoricas=[]\n",
        "  for i in dataset:\n",
        "    if (dataset[i].dtype.kind == \"i\" or dataset[i].dtype.kind == \"f\") and (i not in \"PRECIO\") and (i not in \"CLASE\"):\n",
        "        lista_numericas.append(i)\n",
        "    elif (dataset[i].dtype.kind == \"i\" or dataset[i].dtype.kind == \"f\") and (i in \"CLASE\"):\n",
        "          lista_boolean.append(i)\n",
        "    elif (dataset[i].dtype.kind == \"0\") or (i not in \"PRECIO\"):\n",
        "          lista_categoricas.append(i)\n",
        "  return lista_numericas, lista_boolean, lista_categoricas "
      ],
      "execution_count": null,
      "outputs": []
    },
    {
      "cell_type": "code",
      "source": [
        "l_num, l_bool, l_cat = obtener_lista_variables(df_renfe3) "
      ],
      "metadata": {
        "id": "df35783-AhDl"
      },
      "execution_count": null,
      "outputs": []
    },
    {
      "cell_type": "code",
      "source": [],
      "metadata": {
        "id": "Qp_p0ZGTBUNu"
      },
      "execution_count": null,
      "outputs": []
    },
    {
      "cell_type": "code",
      "source": [
        "#PREGUNTA 9"
      ],
      "metadata": {
        "id": "zSxnRji5p4oH"
      },
      "execution_count": null,
      "outputs": []
    },
    {
      "cell_type": "code",
      "source": [],
      "metadata": {
        "id": "I6FKYIFkqCk2"
      },
      "execution_count": null,
      "outputs": []
    },
    {
      "cell_type": "code",
      "source": [
        "#PREGUNTA 10"
      ],
      "metadata": {
        "id": "ikAOHWMoqCs1"
      },
      "execution_count": null,
      "outputs": []
    },
    {
      "cell_type": "code",
      "source": [],
      "metadata": {
        "id": "WlfRuYKzqC0x"
      },
      "execution_count": null,
      "outputs": []
    }
  ]
}